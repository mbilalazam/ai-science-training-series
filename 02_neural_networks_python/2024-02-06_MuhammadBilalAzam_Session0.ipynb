{
 "cells": [
  {
   "cell_type": "markdown",
   "id": "1e3b69a0-29f3-445c-9d9c-a83c325e1728",
   "metadata": {},
   "source": [
    "# Here is my first homework."
   ]
  },
  {
   "cell_type": "code",
   "execution_count": 1,
   "id": "1540f970-f685-4a33-a8d8-190bcdeed4c1",
   "metadata": {},
   "outputs": [
    {
     "name": "stdout",
     "output_type": "stream",
     "text": [
      "testing...\n"
     ]
    }
   ],
   "source": [
    "import sys\n",
    "import os\n",
    "\n",
    "print(\"testing...\")"
   ]
  }
 ],
 "metadata": {
  "kernelspec": {
   "display_name": "Python 3 (ipykernel)",
   "language": "python",
   "name": "python3"
  },
  "language_info": {
   "codemirror_mode": {
    "name": "ipython",
    "version": 3
   },
   "file_extension": ".py",
   "mimetype": "text/x-python",
   "name": "python",
   "nbconvert_exporter": "python",
   "pygments_lexer": "ipython3",
   "version": "3.9.15"
  }
 },
 "nbformat": 4,
 "nbformat_minor": 5
}
