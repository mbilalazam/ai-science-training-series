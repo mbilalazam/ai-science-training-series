{
 "cells": [
  {
   "cell_type": "markdown",
   "metadata": {},
   "source": [
    "First, the needed imports."
   ]
  },
  {
   "cell_type": "code",
   "execution_count": null,
   "metadata": {},
   "outputs": [
    {
     "name": "stderr",
     "output_type": "stream",
     "text": [
      "2024-04-09 15:26:14.849830: I tensorflow/core/platform/cpu_feature_guard.cc:193] This TensorFlow binary is optimized with oneAPI Deep Neural Network Library (oneDNN) to use the following CPU instructions in performance-critical operations:  SSE3 SSE4.1 SSE4.2 AVX AVX2 FMA\n",
      "To enable them in other operations, rebuild TensorFlow with the appropriate compiler flags.\n",
      "/soft/datascience/conda/2023-01-10/mconda3/lib/python3.10/site-packages/h5py/__init__.py:36: UserWarning: h5py is running against HDF5 1.12.2 when it was built against 1.12.1, this may cause problems\n",
      "  _warn((\"h5py is running against HDF5 {0} when it was built against {1}, \"\n"
     ]
    }
   ],
   "source": [
    "%matplotlib inline\n",
    "\n",
    "import tensorflow as tf\n",
    "\n",
    "import numpy\n",
    "import matplotlib.pyplot as plt"
   ]
  },
  {
   "cell_type": "code",
   "execution_count": null,
   "metadata": {},
   "outputs": [],
   "source": []
  },
  {
   "cell_type": "markdown",
   "metadata": {},
   "source": [
    "# Session 3"
   ]
  },
  {
   "cell_type": "code",
   "execution_count": 3,
   "metadata": {},
   "outputs": [],
   "source": [
    "%matplotlib inline\n",
    "\n",
    "import tensorflow as tf\n",
    "\n",
    "import numpy\n",
    "import matplotlib.pyplot as plt\n",
    "import time"
   ]
  },
  {
   "cell_type": "code",
   "execution_count": 9,
   "metadata": {},
   "outputs": [
    {
     "name": "stdout",
     "output_type": "stream",
     "text": [
      "Training data shape: (50000, 32, 32, 3)\n",
      "Training labels shape: (50000,)\n",
      "Test data shape: (10000, 32, 32, 3)\n",
      "Test labels shape: (10000,)\n"
     ]
    }
   ],
   "source": [
    "import numpy as np\n",
    "import os\n",
    "import pickle\n",
    "\n",
    "# Load CIFAR-10 dataset\n",
    "def load_cifar10_batch(filename):\n",
    "    with open(filename, 'rb') as f:\n",
    "        data = pickle.load(f, encoding='bytes')\n",
    "    return data[b'data'], data[b'labels']\n",
    "\n",
    "def load_cifar10_data(data_dir):\n",
    "    train_data = []\n",
    "    train_labels = []\n",
    "    for i in range(1, 6):\n",
    "        filename = os.path.join(data_dir, 'data_batch_' + str(i))\n",
    "        data, labels = load_cifar10_batch(filename)\n",
    "        train_data.append(data)\n",
    "        train_labels.append(labels)\n",
    "    train_data = np.concatenate(train_data, axis=0)\n",
    "    train_labels = np.concatenate(train_labels, axis=0)\n",
    "    test_data, test_labels = load_cifar10_batch(os.path.join(data_dir, 'test_batch'))\n",
    "    return train_data, train_labels, test_data, test_labels\n",
    "\n",
    "data_dir = 'cifar-10-batches-py'  # Folder containing CIFAR-10 dataset files\n",
    "x_train, y_train, x_test, y_test = load_cifar10_data(data_dir)\n",
    "\n",
    "# Reshape and normalize data\n",
    "x_train = x_train.reshape((len(x_train), 3, 32, 32)).transpose(0, 2, 3, 1)\n",
    "x_test = x_test.reshape((len(x_test), 3, 32, 32)).transpose(0, 2, 3, 1)\n",
    "x_train = x_train.astype(np.float32) / 255.0\n",
    "x_test = x_test.astype(np.float32) / 255.0\n",
    "\n",
    "# Convert y_test to numpy array\n",
    "y_test = np.array(y_test)\n",
    "\n",
    "# Display the shape of the datasets\n",
    "print(\"Training data shape:\", x_train.shape)\n",
    "print(\"Training labels shape:\", y_train.shape)\n",
    "print(\"Test data shape:\", x_test.shape)\n",
    "print(\"Test labels shape:\", y_test.shape)\n"
   ]
  },
  {
   "cell_type": "code",
   "execution_count": 10,
   "metadata": {},
   "outputs": [],
   "source": [
    "class CIFAR10Classifier(tf.keras.models.Model):\n",
    "\n",
    "    def __init__(self, activation=tf.nn.tanh):\n",
    "        tf.keras.models.Model.__init__(self)\n",
    "\n",
    "        self.conv_1 = tf.keras.layers.Conv2D(32, [3, 3], activation='relu')\n",
    "        self.conv_2 = tf.keras.layers.Conv2D(64, [3, 3], activation='relu')\n",
    "        self.pool_3 = tf.keras.layers.MaxPooling2D(pool_size=(2, 2))\n",
    "        self.drop_4 = tf.keras.layers.Dropout(0.25)\n",
    "        self.dense_5 = tf.keras.layers.Dense(128, activation='relu')\n",
    "        self.drop_6 = tf.keras.layers.Dropout(0.5)\n",
    "        self.dense_7 = tf.keras.layers.Dense(10, activation='softmax')\n",
    "\n",
    "    def call(self, inputs):\n",
    "\n",
    "        x = self.conv_1(inputs)\n",
    "        x = self.conv_2(x)\n",
    "        x = self.pool_3(x)\n",
    "        x = self.drop_4(x)\n",
    "        x = tf.keras.layers.Flatten()(x)\n",
    "        x = self.dense_5(x)\n",
    "        x = self.drop_6(x)\n",
    "        x = self.dense_7(x)\n",
    "\n",
    "        return x"
   ]
  },
  {
   "cell_type": "code",
   "execution_count": 11,
   "metadata": {},
   "outputs": [],
   "source": [
    "def train_network_concise(_batch_size, _n_training_epochs, _lr):\n",
    "\n",
    "    cnn_model = CIFAR10Classifier()\n",
    "\n",
    "    cnn_model.compile(loss=\"sparse_categorical_crossentropy\", optimizer=\"adam\", metrics=['accuracy'])\n",
    "    \n",
    "    history = cnn_model.fit(x_train, y_train, batch_size=_batch_size, epochs=_n_training_epochs)\n",
    "    return history, cnn_model"
   ]
  },
  {
   "cell_type": "code",
   "execution_count": 12,
   "metadata": {},
   "outputs": [
    {
     "name": "stdout",
     "output_type": "stream",
     "text": [
      "Epoch 1/3\n"
     ]
    },
    {
     "name": "stderr",
     "output_type": "stream",
     "text": [
      "2024-04-09 15:32:59.525557: E tensorflow/core/grappler/optimizers/meta_optimizer.cc:954] layout failed: INVALID_ARGUMENT: Size of values 0 does not match size of permutation 4 @ fanin shape incifar10_classifier/dropout/dropout/SelectV2-2-TransposeNHWCToNCHW-LayoutOptimizer\n"
     ]
    },
    {
     "name": "stdout",
     "output_type": "stream",
     "text": [
      "98/98 [==============================] - 12s 9ms/step - loss: 1.8022 - accuracy: 0.3380\n",
      "Epoch 2/3\n",
      "98/98 [==============================] - 1s 7ms/step - loss: 1.4515 - accuracy: 0.4772\n",
      "Epoch 3/3\n",
      "98/98 [==============================] - 1s 7ms/step - loss: 1.3194 - accuracy: 0.5307\n"
     ]
    }
   ],
   "source": [
    "# This took 43 seconds per epoch on my laptop\n",
    "batch_size = 512\n",
    "epochs = 3\n",
    "lr = .01\n",
    "history, cnn_model = train_network_concise(batch_size, epochs, lr)"
   ]
  },
  {
   "cell_type": "code",
   "execution_count": 13,
   "metadata": {},
   "outputs": [
    {
     "data": {
      "image/png": "[encoded data removed]",
      "text/plain": [
       "<Figure size 500x300 with 1 Axes>"
      ]
     },
     "metadata": {},
     "output_type": "display_data"
    },
    {
     "data": {
      "image/png": "[encoded data removed]",
      "text/plain": [
       "<Figure size 500x300 with 1 Axes>"
      ]
     },
     "metadata": {},
     "output_type": "display_data"
    }
   ],
   "source": [
    "plt.figure(figsize=(5,3))\n",
    "plt.plot(history.epoch,history.history['loss'])\n",
    "plt.title('loss')\n",
    "\n",
    "plt.figure(figsize=(5,3))\n",
    "plt.plot(history.epoch,history.history['accuracy'])\n",
    "plt.title('accuracy');"
   ]
  },
  {
   "cell_type": "code",
   "execution_count": 14,
   "metadata": {},
   "outputs": [
    {
     "name": "stdout",
     "output_type": "stream",
     "text": [
      "313/313 - 0s - loss: 1.1503 - accuracy: 0.5962 - 468ms/epoch - 1ms/step\n",
      "accuracy: 59.62%\n",
      "CPU times: user 652 ms, sys: 148 ms, total: 799 ms\n",
      "Wall time: 588 ms\n"
     ]
    }
   ],
   "source": [
    "%%time\n",
    "x_test_reshaped = numpy.expand_dims(x_test, -1)\n",
    "scores = cnn_model.evaluate(x_test, y_test, verbose=2)\n",
    "print(\"%s: %.2f%%\" % (cnn_model.metrics_names[1], scores[1]*100))"
   ]
  },
  {
   "cell_type": "code",
   "execution_count": 15,
   "metadata": {},
   "outputs": [
    {
     "name": "stdout",
     "output_type": "stream",
     "text": [
      "Confusion matrix (rows: true classes; columns: predicted classes):\n",
      "\n",
      "313/313 [==============================] - 0s 801us/step\n",
      "[[686  30  83  23  14   7  23  13  87  34]\n",
      " [ 37 751   9   4   7   2  30  13  41 106]\n",
      " [ 69   9 466  73 113  74 116  49  16  15]\n",
      " [ 17   8 104 391  74 146 177  51  14  18]\n",
      " [ 40   4 148  59 477  25 154  84   7   2]\n",
      " [ 14   3 114 192  59 450  72  77  12   7]\n",
      " [  5   5  47  54  55   6 803  14   4   7]\n",
      " [ 19   3  45  51  67  67  39 680   3  26]\n",
      " [157  62  26  18   3   9  23   8 650  44]\n",
      " [ 51 160  11  15   3   5  47  43  57 608]]\n",
      "\n",
      "Classification accuracy for each class:\n",
      "\n",
      "0: 0.6860\n",
      "1: 0.7510\n",
      "2: 0.4660\n",
      "3: 0.3910\n",
      "4: 0.4770\n",
      "5: 0.4500\n",
      "6: 0.8030\n",
      "7: 0.6800\n",
      "8: 0.6500\n",
      "9: 0.6080\n"
     ]
    }
   ],
   "source": [
    "from sklearn.metrics import confusion_matrix\n",
    "\n",
    "print('Confusion matrix (rows: true classes; columns: predicted classes):'); print()\n",
    "predictions = cnn_model.predict(x_test)\n",
    "cm=confusion_matrix(y_test, numpy.argmax(predictions, axis=1), labels=list(range(10)))\n",
    "print(cm); print()\n",
    "\n",
    "print('Classification accuracy for each class:'); print()\n",
    "for i,j in enumerate(cm.diagonal()/cm.sum(axis=1)): print(\"%d: %.4f\" % (i,j))"
   ]
  },
  {
   "cell_type": "code",
   "execution_count": 16,
   "metadata": {},
   "outputs": [],
   "source": [
    "def compute_loss(y_true, y_pred):\n",
    "    # if labels are integers, use sparse categorical crossentropy\n",
    "    # network's final layer is softmax, so from_logtis=False\n",
    "    scce = tf.keras.losses.SparseCategoricalCrossentropy(from_logits=False)\n",
    "    # if labels are one-hot encoded, use standard crossentropy\n",
    "\n",
    "    return scce(y_true, y_pred)  "
   ]
  },
  {
   "cell_type": "code",
   "execution_count": 17,
   "metadata": {},
   "outputs": [],
   "source": [
    "def forward_pass(model, batch_data, y_true):\n",
    "    y_pred = model(batch_data)\n",
    "    loss = compute_loss(y_true, y_pred)\n",
    "    return loss"
   ]
  },
  {
   "cell_type": "code",
   "execution_count": 18,
   "metadata": {},
   "outputs": [],
   "source": [
    "# Here is a function that will manage the training loop for us:\n",
    "\n",
    "def train_loop(batch_size, n_training_epochs, model, opt):\n",
    "    \n",
    "    @tf.function()\n",
    "    def train_iteration(data, y_true, model, opt):\n",
    "        with tf.GradientTape() as tape:\n",
    "            loss = forward_pass(model, data, y_true)\n",
    "\n",
    "        trainable_vars = model.trainable_variables\n",
    "\n",
    "        # Apply the update to the network (one at a time):\n",
    "        grads = tape.gradient(loss, trainable_vars)\n",
    "\n",
    "        opt.apply_gradients(zip(grads, trainable_vars))\n",
    "        return loss\n",
    "\n",
    "    for i_epoch in range(n_training_epochs):\n",
    "        print(\"beginning epoch %d\" % i_epoch)\n",
    "        start = time.time()\n",
    "\n",
    "        epoch_steps = int(50000/batch_size)\n",
    "        dataset.shuffle(50000) # Shuffle the whole dataset in memory\n",
    "        batches = dataset.batch(batch_size=batch_size, drop_remainder=True)\n",
    "        \n",
    "        for i_batch, (batch_data, y_true) in enumerate(batches):\n",
    "            batch_data = tf.reshape(batch_data, [-1, 32, 32, 3])\n",
    "            loss = train_iteration(batch_data, y_true, model, opt)\n",
    "            \n",
    "        end = time.time()\n",
    "        print(\"took %1.1f seconds for epoch #%d\" % (end-start, i_epoch))"
   ]
  },
  {
   "cell_type": "code",
   "execution_count": 19,
   "metadata": {},
   "outputs": [],
   "source": [
    "def train_network(_batch_size, _n_training_epochs, _lr):\n",
    "\n",
    "    cifar_model = CIFAR10Classifier()\n",
    "\n",
    "    opt = tf.keras.optimizers.Adam(_lr)\n",
    "\n",
    "    train_loop(_batch_size, _n_training_epochs, cifar_model, opt)"
   ]
  },
  {
   "cell_type": "code",
   "execution_count": 20,
   "metadata": {},
   "outputs": [
    {
     "name": "stdout",
     "output_type": "stream",
     "text": [
      "beginning epoch 0\n",
      "took 1.4 seconds for epoch #0\n",
      "beginning epoch 1\n",
      "took 0.6 seconds for epoch #1\n",
      "beginning epoch 2\n",
      "took 0.6 seconds for epoch #2\n"
     ]
    }
   ],
   "source": [
    "dataset = tf.data.Dataset.from_tensor_slices((x_train, y_train))\n",
    "dataset.shuffle(50000)\n",
    "\n",
    "batch_size = 512\n",
    "epochs = 3\n",
    "lr = .01\n",
    "train_network(batch_size, epochs, lr)"
   ]
  },
  {
   "cell_type": "markdown",
   "metadata": {},
   "source": [
    "# Homework: improve the accuracy of this model\n",
    "\n",
    "Update this notebook to ensure more accuracy. How high can it be raised? Changes like increasing the number of epochs, altering the learning rate, altering the number of neurons the hidden layer, chnaging the optimizer, etc. could be made directly in the notebook. You can also change the model specification by expanding the network's layer. The current notebook's training accuracy is roughly 58.06%, although it varies randomly."
   ]
  },
  {
   "cell_type": "code",
   "execution_count": 21,
   "metadata": {},
   "outputs": [],
   "source": [
    "class CIFAR10Classifier(tf.keras.models.Model):\n",
    "\n",
    "    def __init__(self, activation=tf.nn.tanh):\n",
    "        tf.keras.models.Model.__init__(self)\n",
    "\n",
    "        self.conv_1 = tf.keras.layers.Conv2D(32, [3, 3], activation='relu', kernel_initializer='he_uniform', padding='same')\n",
    "        self.conv_2 = tf.keras.layers.Conv2D(32, [3, 3], activation='relu', kernel_initializer='he_uniform', padding='same')\n",
    "        self.pool_3 = tf.keras.layers.MaxPooling2D(pool_size=(2, 2))\n",
    "        self.drop_4 = tf.keras.layers.Dropout(0.2)\n",
    "        self.conv_5 = tf.keras.layers.Conv2D(64, [3, 3], activation='relu', kernel_initializer='he_uniform', padding='same')\n",
    "        self.conv_6 = tf.keras.layers.Conv2D(64, [3, 3], activation='relu', kernel_initializer='he_uniform', padding='same')\n",
    "        self.pool_7 = tf.keras.layers.MaxPooling2D(pool_size=(2, 2))\n",
    "        self.drop_8 = tf.keras.layers.Dropout(0.2)\n",
    "        self.conv_9 = tf.keras.layers.Conv2D(128, [3, 3], activation='relu', kernel_initializer='he_uniform', padding='same')\n",
    "        self.conv_10 = tf.keras.layers.Conv2D(128, [3, 3], activation='relu', kernel_initializer='he_uniform', padding='same')\n",
    "        self.pool_11 = tf.keras.layers.MaxPooling2D(pool_size=(2, 2))\n",
    "        self.drop_12 = tf.keras.layers.Dropout(0.2)\n",
    "        self.dense_13 = tf.keras.layers.Dense(128, activation='relu')\n",
    "        self.drop_14 = tf.keras.layers.Dropout(0.2)\n",
    "        self.dense_15 = tf.keras.layers.Dense(10, activation='softmax')\n",
    "        \n",
    "\n",
    "    def call(self, inputs):\n",
    "\n",
    "        x = self.conv_1(inputs)\n",
    "        x = self.conv_2(x)\n",
    "        x = self.pool_3(x)\n",
    "        x = self.drop_4(x)\n",
    "        \n",
    "        x = self.conv_5(x)\n",
    "        x = self.conv_6(x)\n",
    "        x = self.pool_7(x)\n",
    "        x = self.drop_8(x)\n",
    "        \n",
    "        \n",
    "        x = self.conv_9(x)\n",
    "        x = self.conv_10(x)\n",
    "        x = self.pool_11(x)\n",
    "        x = self.drop_12(x)\n",
    "        \n",
    "        \n",
    "        x = tf.keras.layers.Flatten()(x)\n",
    "        x = self.dense_13(x)\n",
    "        x = self.drop_14(x)\n",
    "        x = self.dense_15(x)\n",
    "\n",
    "        return x"
   ]
  },
  {
   "cell_type": "code",
   "execution_count": 22,
   "metadata": {},
   "outputs": [],
   "source": [
    "def train_network_concise(_batch_size, _n_training_epochs, _lr):\n",
    "\n",
    "    cnn_model = CIFAR10Classifier()\n",
    "\n",
    "    cnn_model.compile(loss=\"sparse_categorical_crossentropy\", optimizer=\"adam\", metrics=['accuracy'])\n",
    "    \n",
    "    history = cnn_model.fit(x_train, y_train, batch_size=_batch_size, epochs=_n_training_epochs)\n",
    "    return history, cnn_model"
   ]
  },
  {
   "cell_type": "code",
   "execution_count": 23,
   "metadata": {},
   "outputs": [
    {
     "name": "stdout",
     "output_type": "stream",
     "text": [
      "Epoch 1/10\n"
     ]
    },
    {
     "name": "stderr",
     "output_type": "stream",
     "text": [
      "2024-04-09 15:35:28.352821: E tensorflow/core/grappler/optimizers/meta_optimizer.cc:954] layout failed: INVALID_ARGUMENT: Size of values 0 does not match size of permutation 4 @ fanin shape incifar10_classifier_2/dropout_4/dropout/SelectV2-2-TransposeNHWCToNCHW-LayoutOptimizer\n"
     ]
    },
    {
     "name": "stdout",
     "output_type": "stream",
     "text": [
      "782/782 [==============================] - 5s 3ms/step - loss: 1.6818 - accuracy: 0.3803\n",
      "Epoch 2/10\n",
      "782/782 [==============================] - 2s 3ms/step - loss: 1.1714 - accuracy: 0.5839\n",
      "Epoch 3/10\n",
      "782/782 [==============================] - 2s 3ms/step - loss: 0.9527 - accuracy: 0.6646\n",
      "Epoch 4/10\n",
      "782/782 [==============================] - 2s 3ms/step - loss: 0.8331 - accuracy: 0.7084\n",
      "Epoch 5/10\n",
      "782/782 [==============================] - 2s 3ms/step - loss: 0.7517 - accuracy: 0.7385\n",
      "Epoch 6/10\n",
      "782/782 [==============================] - 2s 3ms/step - loss: 0.6963 - accuracy: 0.7577\n",
      "Epoch 7/10\n",
      "782/782 [==============================] - 2s 3ms/step - loss: 0.6385 - accuracy: 0.7786\n",
      "Epoch 8/10\n",
      "782/782 [==============================] - 2s 3ms/step - loss: 0.5969 - accuracy: 0.7934\n",
      "Epoch 9/10\n",
      "782/782 [==============================] - 2s 3ms/step - loss: 0.5731 - accuracy: 0.7994\n",
      "Epoch 10/10\n",
      "782/782 [==============================] - 2s 3ms/step - loss: 0.5396 - accuracy: 0.8119\n"
     ]
    }
   ],
   "source": [
    "batch_size = 64\n",
    "epochs = 10\n",
    "lr = .01\n",
    "history, cnn_model = train_network_concise(batch_size, epochs, lr)"
   ]
  },
  {
   "cell_type": "code",
   "execution_count": 24,
   "metadata": {},
   "outputs": [
    {
     "data": {
      "image/png": "[encoded data removed]",
      "text/plain": [
       "<Figure size 500x300 with 1 Axes>"
      ]
     },
     "metadata": {},
     "output_type": "display_data"
    },
    {
     "data": {
      "image/png": "[encoded data removed]",
      "text/plain": [
       "<Figure size 500x300 with 1 Axes>"
      ]
     },
     "metadata": {},
     "output_type": "display_data"
    }
   ],
   "source": [
    "plt.figure(figsize=(5,3))\n",
    "plt.plot(history.epoch,history.history['loss'])\n",
    "plt.title('loss')\n",
    "\n",
    "plt.figure(figsize=(5,3))\n",
    "plt.plot(history.epoch,history.history['accuracy'])\n",
    "plt.title('accuracy');"
   ]
  },
  {
   "cell_type": "code",
   "execution_count": 25,
   "metadata": {},
   "outputs": [
    {
     "name": "stdout",
     "output_type": "stream",
     "text": [
      "Training data shape: (50000, 32, 32, 3)\n",
      "Training labels shape: (50000,)\n",
      "Test data shape: (10000, 32, 32, 3)\n",
      "Test labels shape: (10000,)\n",
      "Epoch 1/20\n",
      "391/391 [==============================] - 6s 8ms/step - loss: 1.1282 - accuracy: 0.6094 - val_loss: 4.9675 - val_accuracy: 0.1635\n",
      "Epoch 2/20\n",
      "391/391 [==============================] - 2s 6ms/step - loss: 0.7077 - accuracy: 0.7534 - val_loss: 0.8873 - val_accuracy: 0.6877\n",
      "Epoch 3/20\n",
      "391/391 [==============================] - 2s 6ms/step - loss: 0.5043 - accuracy: 0.8248 - val_loss: 1.0173 - val_accuracy: 0.6954\n",
      "Epoch 4/20\n",
      "391/391 [==============================] - 2s 6ms/step - loss: 0.3437 - accuracy: 0.8807 - val_loss: 0.7856 - val_accuracy: 0.7573\n",
      "Epoch 5/20\n",
      "391/391 [==============================] - 2s 6ms/step - loss: 0.1826 - accuracy: 0.9390 - val_loss: 0.9030 - val_accuracy: 0.7360\n",
      "Epoch 6/20\n",
      "391/391 [==============================] - 2s 6ms/step - loss: 0.0877 - accuracy: 0.9736 - val_loss: 0.7434 - val_accuracy: 0.7905\n",
      "Epoch 7/20\n",
      "391/391 [==============================] - 2s 6ms/step - loss: 0.0513 - accuracy: 0.9856 - val_loss: 0.8267 - val_accuracy: 0.7994\n",
      "Epoch 8/20\n",
      "391/391 [==============================] - 2s 6ms/step - loss: 0.0424 - accuracy: 0.9876 - val_loss: 0.9784 - val_accuracy: 0.7739\n",
      "Epoch 9/20\n",
      "391/391 [==============================] - 2s 6ms/step - loss: 0.0747 - accuracy: 0.9746 - val_loss: 1.1896 - val_accuracy: 0.7509\n",
      "Epoch 10/20\n",
      "391/391 [==============================] - 2s 6ms/step - loss: 0.0594 - accuracy: 0.9799 - val_loss: 0.8902 - val_accuracy: 0.7786\n",
      "Epoch 11/20\n",
      "391/391 [==============================] - 2s 6ms/step - loss: 0.0374 - accuracy: 0.9882 - val_loss: 1.0073 - val_accuracy: 0.7788\n",
      "Epoch 12/20\n",
      "391/391 [==============================] - 2s 6ms/step - loss: 0.0261 - accuracy: 0.9918 - val_loss: 1.1466 - val_accuracy: 0.7733\n",
      "Epoch 13/20\n",
      "391/391 [==============================] - 2s 6ms/step - loss: 0.0268 - accuracy: 0.9917 - val_loss: 1.1145 - val_accuracy: 0.7758\n",
      "Epoch 14/20\n",
      "391/391 [==============================] - 2s 6ms/step - loss: 0.0455 - accuracy: 0.9848 - val_loss: 1.2798 - val_accuracy: 0.7577\n",
      "Epoch 15/20\n",
      "391/391 [==============================] - 2s 6ms/step - loss: 0.0503 - accuracy: 0.9827 - val_loss: 1.0363 - val_accuracy: 0.7904\n",
      "Epoch 16/20\n",
      "391/391 [==============================] - 2s 6ms/step - loss: 0.0350 - accuracy: 0.9880 - val_loss: 1.2651 - val_accuracy: 0.7692\n",
      "Epoch 17/20\n",
      "391/391 [==============================] - 2s 6ms/step - loss: 0.0196 - accuracy: 0.9937 - val_loss: 1.1659 - val_accuracy: 0.7747\n",
      "Epoch 18/20\n",
      "391/391 [==============================] - 2s 6ms/step - loss: 0.0137 - accuracy: 0.9957 - val_loss: 1.2530 - val_accuracy: 0.7732\n",
      "Epoch 19/20\n",
      "391/391 [==============================] - 2s 6ms/step - loss: 0.0225 - accuracy: 0.9926 - val_loss: 1.1191 - val_accuracy: 0.7747\n",
      "Epoch 20/20\n",
      "391/391 [==============================] - 2s 6ms/step - loss: 0.0377 - accuracy: 0.9874 - val_loss: 1.5547 - val_accuracy: 0.7356\n"
     ]
    },
    {
     "data": {
      "image/png": "[encoded data removed]",
      "text/plain": [
       "<Figure size 1000x500 with 2 Axes>"
      ]
     },
     "metadata": {},
     "output_type": "display_data"
    },
    {
     "name": "stdout",
     "output_type": "stream",
     "text": [
      "Test Loss: 1.5546932220458984\n",
      "Test Accuracy: 0.7355999946594238\n",
      "313/313 [==============================] - 0s 1ms/step\n",
      "Confusion Matrix:\n",
      "[[578  11 107  74  68  18  22  20  76  26]\n",
      " [  8 823  15  26  10  11  11   6  31  59]\n",
      " [ 22   1 649  59 128  57  45  24  12   3]\n",
      " [  4   1  53 620 115 116  52  27  11   1]\n",
      " [  3   2  30  39 869  19  17  15   5   1]\n",
      " [  1   0  42 191 106 601  22  28   7   2]\n",
      " [  1   0  42  51  80  29 782  10   5   0]\n",
      " [  5   0  25  33 137  39   7 749   3   2]\n",
      " [ 16  18  27  23  23   5  11   1 862  14]\n",
      " [  7  41  10  48  15  15   2  14  25 823]]\n",
      "\n",
      "Classification Accuracy for Each Class:\n",
      "Class 0: 0.578\n",
      "Class 1: 0.823\n",
      "Class 2: 0.649\n",
      "Class 3: 0.62\n",
      "Class 4: 0.869\n",
      "Class 5: 0.601\n",
      "Class 6: 0.782\n",
      "Class 7: 0.749\n",
      "Class 8: 0.862\n",
      "Class 9: 0.823\n"
     ]
    }
   ],
   "source": [
    "# Importing necessary libraries\n",
    "import tensorflow as tf\n",
    "import numpy as np\n",
    "import matplotlib.pyplot as plt\n",
    "import time\n",
    "import os\n",
    "import pickle\n",
    "\n",
    "# Load CIFAR-10 dataset\n",
    "def load_cifar10_batch(filename):\n",
    "    with open(filename, 'rb') as f:\n",
    "        data = pickle.load(f, encoding='bytes')\n",
    "    return data[b'data'], data[b'labels']\n",
    "\n",
    "def load_cifar10_data(data_dir):\n",
    "    train_data = []\n",
    "    train_labels = []\n",
    "    for i in range(1, 6):\n",
    "        filename = os.path.join(data_dir, 'data_batch_' + str(i))\n",
    "        data, labels = load_cifar10_batch(filename)\n",
    "        train_data.append(data)\n",
    "        train_labels.append(labels)\n",
    "    train_data = np.concatenate(train_data, axis=0)\n",
    "    train_labels = np.concatenate(train_labels, axis=0)\n",
    "    test_data, test_labels = load_cifar10_batch(os.path.join(data_dir, 'test_batch'))\n",
    "    return train_data, train_labels, test_data, test_labels\n",
    "\n",
    "data_dir = 'cifar-10-batches-py'  # Folder containing CIFAR-10 dataset files\n",
    "x_train, y_train, x_test, y_test = load_cifar10_data(data_dir)\n",
    "\n",
    "# Reshape and normalize data\n",
    "x_train = x_train.reshape((len(x_train), 3, 32, 32)).transpose(0, 2, 3, 1)\n",
    "x_test = x_test.reshape((len(x_test), 3, 32, 32)).transpose(0, 2, 3, 1)\n",
    "x_train = x_train.astype(np.float32) / 255.0\n",
    "x_test = x_test.astype(np.float32) / 255.0\n",
    "\n",
    "# Convert y_test to numpy array\n",
    "y_test = np.array(y_test)\n",
    "\n",
    "# Display the shape of the datasets\n",
    "print(\"Training data shape:\", x_train.shape)\n",
    "print(\"Training labels shape:\", y_train.shape)\n",
    "print(\"Test data shape:\", x_test.shape)\n",
    "print(\"Test labels shape:\", y_test.shape)\n",
    "\n",
    "# Define CIFAR-10 Classifier model with batch normalization\n",
    "class CIFAR10Classifier(tf.keras.models.Model):\n",
    "\n",
    "    def __init__(self):\n",
    "        super(CIFAR10Classifier, self).__init__()\n",
    "        self.conv_1 = tf.keras.layers.Conv2D(64, (3, 3), activation='relu', padding='same')\n",
    "        self.bn_1 = tf.keras.layers.BatchNormalization()\n",
    "        self.conv_2 = tf.keras.layers.Conv2D(64, (3, 3), activation='relu', padding='same')\n",
    "        self.bn_2 = tf.keras.layers.BatchNormalization()\n",
    "        self.pool_3 = tf.keras.layers.MaxPooling2D(pool_size=(2, 2))\n",
    "        self.conv_4 = tf.keras.layers.Conv2D(128, (3, 3), activation='relu', padding='same')\n",
    "        self.bn_3 = tf.keras.layers.BatchNormalization()\n",
    "        self.conv_5 = tf.keras.layers.Conv2D(128, (3, 3), activation='relu', padding='same')\n",
    "        self.bn_4 = tf.keras.layers.BatchNormalization()\n",
    "        self.pool_6 = tf.keras.layers.MaxPooling2D(pool_size=(2, 2))\n",
    "        self.flatten = tf.keras.layers.Flatten()\n",
    "        self.dense_7 = tf.keras.layers.Dense(512, activation='relu')\n",
    "        self.bn_5 = tf.keras.layers.BatchNormalization()\n",
    "        self.dense_8 = tf.keras.layers.Dense(10, activation='softmax')\n",
    "\n",
    "    def call(self, inputs):\n",
    "        x = self.conv_1(inputs)\n",
    "        x = self.bn_1(x)\n",
    "        x = self.conv_2(x)\n",
    "        x = self.bn_2(x)\n",
    "        x = self.pool_3(x)\n",
    "        x = self.conv_4(x)\n",
    "        x = self.bn_3(x)\n",
    "        x = self.conv_5(x)\n",
    "        x = self.bn_4(x)\n",
    "        x = self.pool_6(x)\n",
    "        x = self.flatten(x)\n",
    "        x = self.dense_7(x)\n",
    "        x = self.bn_5(x)\n",
    "        x = self.dense_8(x)\n",
    "        return x\n",
    "\n",
    "# Function to train the model\n",
    "def train_network(batch_size, epochs, lr):\n",
    "    model = CIFAR10Classifier()\n",
    "    model.compile(loss=\"sparse_categorical_crossentropy\", optimizer=tf.keras.optimizers.Adam(lr), metrics=['accuracy'])\n",
    "    history = model.fit(x_train, y_train, batch_size=batch_size, epochs=epochs, validation_data=(x_test, y_test))\n",
    "    return history, model\n",
    "\n",
    "# Training parameters\n",
    "batch_size = 128\n",
    "epochs = 20\n",
    "lr = 0.001\n",
    "\n",
    "# Train the model\n",
    "history, model = train_network(batch_size, epochs, lr)\n",
    "\n",
    "# Plot training history\n",
    "plt.figure(figsize=(10, 5))\n",
    "plt.subplot(1, 2, 1)\n",
    "plt.plot(history.history['loss'], label='Training Loss')\n",
    "plt.plot(history.history['val_loss'], label='Validation Loss')\n",
    "plt.title('Loss')\n",
    "plt.xlabel('Epochs')\n",
    "plt.ylabel('Loss')\n",
    "plt.legend()\n",
    "\n",
    "plt.subplot(1, 2, 2)\n",
    "plt.plot(history.history['accuracy'], label='Training Accuracy')\n",
    "plt.plot(history.history['val_accuracy'], label='Validation Accuracy')\n",
    "plt.title('Accuracy')\n",
    "plt.xlabel('Epochs')\n",
    "plt.ylabel('Accuracy')\n",
    "plt.legend()\n",
    "plt.show()\n",
    "\n",
    "# Evaluate the model on test data\n",
    "test_loss, test_accuracy = model.evaluate(x_test, y_test, verbose=0)\n",
    "print(\"Test Loss:\", test_loss)\n",
    "print(\"Test Accuracy:\", test_accuracy)\n",
    "\n",
    "# Confusion matrix and classification accuracy for each class\n",
    "predictions = model.predict(x_test)\n",
    "confusion_matrix = tf.math.confusion_matrix(y_test, np.argmax(predictions, axis=1))\n",
    "classification_accuracy = np.diag(confusion_matrix) / np.sum(confusion_matrix, axis=1)\n",
    "\n",
    "print(\"Confusion Matrix:\")\n",
    "print(confusion_matrix.numpy())\n",
    "print(\"\\nClassification Accuracy for Each Class:\")\n",
    "for i, acc in enumerate(classification_accuracy):\n",
    "    print(f\"Class {i}: {acc}\")\n"
   ]
  }
 ],
 "metadata": {
  "kernelspec": {
   "display_name": "datascience/conda-2023-01-10",
   "language": "python",
   "name": "conda-2023-01-10"
  },
  "language_info": {
   "codemirror_mode": {
    "name": "ipython",
    "version": 3
   },
   "file_extension": ".py",
   "mimetype": "text/x-python",
   "name": "python",
   "nbconvert_exporter": "python",
   "pygments_lexer": "ipython3",
   "version": "3.10.9"
  }
 },
 "nbformat": 4,
 "nbformat_minor": 4
}
